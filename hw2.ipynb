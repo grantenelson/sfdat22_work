{
 "cells": [
  {
   "cell_type": "code",
   "execution_count": 1,
   "metadata": {
    "collapsed": false
   },
   "outputs": [],
   "source": [
    "import tweepy       # python wrapper for twitter api\n",
    "import json\n",
    "import time\n",
    "import requests\n",
    "# step 0, get your own twitter credentials!"
   ]
  },
  {
   "cell_type": "code",
   "execution_count": 2,
   "metadata": {
    "collapsed": false
   },
   "outputs": [],
   "source": [
    "# twitter api information\n",
    "api_key = '47xEiaD4kRD5jJimduwTUGINL'\n",
    "api_secret = '9Kbik9rAZluXhNsQUfuFsb3tFsBAf30ahDQf4w8PiLCDWxEhyU'\n",
    "access_token = '722563853989457920-rpFbisv15p0BzlGcTsActtg0sdLIz1e'\n",
    "access_secret = 'ESS5Jzr2hhSii0v7jipXy5iioCQeYJuqQsQg7oDWRRV6U'"
   ]
  },
  {
   "cell_type": "code",
   "execution_count": 3,
   "metadata": {
    "collapsed": false
   },
   "outputs": [],
   "source": [
    "# Documentation is your friend! http://docs.tweepy.org/en/v3.1.0/\n",
    "auth = tweepy.OAuthHandler(api_key, api_secret)\n",
    "auth.set_access_token(access_token, access_secret)\n",
    "api = tweepy.API(auth) # returns a tweepy authorization handler object"
   ]
  },
  {
   "cell_type": "code",
   "execution_count": 4,
   "metadata": {
    "collapsed": false
   },
   "outputs": [],
   "source": [
    "# 1. Use Twitter API to stream and store tweets (300 per candidate)\n",
    "# explain geocode is doing\n",
    "bernie_tweets =  api.search(q=\"#berniesanders\", count=100, geocode=\"37.781157,-122.398720,50mi\") + api.search(q='#bernie', count=100, geocode=\"37.781157,-122.398720,50mi\") + api.search(q='#FeelTheBern', count=100, geocode=\"37.781157,-122.398720,50mi\")\n",
    "hillary_tweets = api.search(q='#ImWithHer', count=100, geocode=\"37.781157,-122.398720,50mi\") + api.search(q='#hillaryclinton', count=100, geocode=\"37.781157,-122.398720,50mi\") + api.search(q='#hillary2016', count=100, geocode=\"37.781157,-122.398720,50mi\")\n",
    "the_donald_tweets = api.search(q='#donaldtrump', count=100, geocode=\"37.781157,-122.398720,50mi\") + api.search(q='#trump2016', count=100, geocode=\"37.781157,-122.398720,50mi\") + api.search(q='#trump', count=100, geocode=\"37.781157,-122.398720,50mi\") + api.search(q='#makeamericagreatagain', count=100, geocode=\"37.781157,-122.398720,50mi\")"
   ]
  },
  {
   "cell_type": "code",
   "execution_count": 5,
   "metadata": {
    "collapsed": false
   },
   "outputs": [
    {
     "data": {
      "text/plain": [
       "Status(contributors=None, truncated=False, text=u'Ur #Vote 4 #HillaryClinton!\\nBest qualified 4 #POTUS!!\\nEven #DonaldTrump likes her!\\n#KentuckyPrimary \\n#OregonPrimary https://t.co/A7q5ELNUma', is_quote_status=False, in_reply_to_status_id=None, id=732590539434954752, favorite_count=1, _api=<tweepy.api.API object at 0x10432bb50>, author=User(follow_request_sent=False, has_extended_profile=True, profile_use_background_image=True, _json={u'follow_request_sent': False, u'has_extended_profile': True, u'profile_use_background_image': True, u'default_profile_image': False, u'id': 29584150, u'profile_background_image_url_https': u'https://pbs.twimg.com/profile_background_images/604738059897143296/dzCp250L.png', u'verified': False, u'profile_text_color': u'333333', u'profile_image_url_https': u'https://pbs.twimg.com/profile_images/730774049945608192/qalog2i1_normal.jpg', u'profile_sidebar_fill_color': u'F6F6F6', u'entities': {u'description': {u'urls': []}}, u'followers_count': 10974, u'profile_sidebar_border_color': u'FFFFFF', u'id_str': u'29584150', u'profile_background_color': u'EBEBEB', u'listed_count': 238, u'is_translation_enabled': False, u'utc_offset': -25200, u'statuses_count': 32026, u'description': u'Peace, Amazon Rainforest, Climate Change, Ocean & Human Rights Activist.   THE AMAZON RAINFOREST recycles 20% of the oxygen in our planet. Keep the AMAZON ALIVE', u'friends_count': 12773, u'location': u'Mill Valley, CA', u'profile_link_color': u'990000', u'profile_image_url': u'http://pbs.twimg.com/profile_images/730774049945608192/qalog2i1_normal.jpg', u'following': False, u'geo_enabled': True, u'profile_banner_url': u'https://pbs.twimg.com/profile_banners/29584150/1463451347', u'profile_background_image_url': u'http://pbs.twimg.com/profile_background_images/604738059897143296/dzCp250L.png', u'screen_name': u'Yolibeans', u'lang': u'en', u'profile_background_tile': True, u'favourites_count': 10358, u'name': u'Yolanda G. Lemaitre', u'notifications': False, u'url': None, u'created_at': u'Wed Apr 08 00:00:47 +0000 2009', u'contributors_enabled': False, u'time_zone': u'Pacific Time (US & Canada)', u'protected': False, u'default_profile': False, u'is_translator': False}, time_zone=u'Pacific Time (US & Canada)', id=29584150, _api=<tweepy.api.API object at 0x10432bb50>, verified=False, profile_text_color=u'333333', profile_image_url_https=u'https://pbs.twimg.com/profile_images/730774049945608192/qalog2i1_normal.jpg', profile_sidebar_fill_color=u'F6F6F6', is_translator=False, geo_enabled=True, entities={u'description': {u'urls': []}}, followers_count=10974, protected=False, id_str=u'29584150', default_profile_image=False, listed_count=238, lang=u'en', utc_offset=-25200, statuses_count=32026, description=u'Peace, Amazon Rainforest, Climate Change, Ocean & Human Rights Activist.   THE AMAZON RAINFOREST recycles 20% of the oxygen in our planet. Keep the AMAZON ALIVE', friends_count=12773, profile_link_color=u'990000', profile_image_url=u'http://pbs.twimg.com/profile_images/730774049945608192/qalog2i1_normal.jpg', notifications=False, profile_background_image_url_https=u'https://pbs.twimg.com/profile_background_images/604738059897143296/dzCp250L.png', profile_background_color=u'EBEBEB', profile_banner_url=u'https://pbs.twimg.com/profile_banners/29584150/1463451347', profile_background_image_url=u'http://pbs.twimg.com/profile_background_images/604738059897143296/dzCp250L.png', name=u'Yolanda G. Lemaitre', is_translation_enabled=False, profile_background_tile=True, favourites_count=10358, screen_name=u'Yolibeans', url=None, created_at=datetime.datetime(2009, 4, 8, 0, 0, 47), contributors_enabled=False, location=u'Mill Valley, CA', profile_sidebar_border_color=u'FFFFFF', default_profile=False, following=False), _json={u'contributors': None, u'truncated': False, u'text': u'Ur #Vote 4 #HillaryClinton!\\nBest qualified 4 #POTUS!!\\nEven #DonaldTrump likes her!\\n#KentuckyPrimary \\n#OregonPrimary https://t.co/A7q5ELNUma', u'is_quote_status': False, u'in_reply_to_status_id': None, u'id': 732590539434954752, u'favorite_count': 1, u'entities': {u'symbols': [], u'user_mentions': [], u'hashtags': [{u'indices': [3, 8], u'text': u'Vote'}, {u'indices': [11, 26], u'text': u'HillaryClinton'}, {u'indices': [45, 51], u'text': u'POTUS'}, {u'indices': [59, 71], u'text': u'DonaldTrump'}, {u'indices': [83, 99], u'text': u'KentuckyPrimary'}, {u'indices': [101, 115], u'text': u'OregonPrimary'}], u'urls': [], u'media': [{u'expanded_url': u'http://twitter.com/Yolibeans/status/732590539434954752/photo/1', u'display_url': u'pic.twitter.com/A7q5ELNUma', u'url': u'https://t.co/A7q5ELNUma', u'media_url_https': u'https://pbs.twimg.com/media/CiqvNq0U4AEEH6B.jpg', u'id_str': u'732590538768048129', u'sizes': {u'large': {u'h': 509, u'resize': u'fit', u'w': 509}, u'small': {u'h': 340, u'resize': u'fit', u'w': 340}, u'medium': {u'h': 509, u'resize': u'fit', u'w': 509}, u'thumb': {u'h': 150, u'resize': u'crop', u'w': 150}}, u'indices': [116, 139], u'type': u'photo', u'id': 732590538768048129, u'media_url': u'http://pbs.twimg.com/media/CiqvNq0U4AEEH6B.jpg'}]}, u'retweeted': False, u'coordinates': None, u'source': u'<a href=\"http://twitter.com\" rel=\"nofollow\">Twitter Web Client</a>', u'in_reply_to_screen_name': None, u'in_reply_to_user_id': None, u'retweet_count': 0, u'id_str': u'732590539434954752', u'favorited': False, u'user': {u'follow_request_sent': False, u'has_extended_profile': True, u'profile_use_background_image': True, u'default_profile_image': False, u'id': 29584150, u'profile_background_image_url_https': u'https://pbs.twimg.com/profile_background_images/604738059897143296/dzCp250L.png', u'verified': False, u'profile_text_color': u'333333', u'profile_image_url_https': u'https://pbs.twimg.com/profile_images/730774049945608192/qalog2i1_normal.jpg', u'profile_sidebar_fill_color': u'F6F6F6', u'entities': {u'description': {u'urls': []}}, u'followers_count': 10974, u'profile_sidebar_border_color': u'FFFFFF', u'id_str': u'29584150', u'profile_background_color': u'EBEBEB', u'listed_count': 238, u'is_translation_enabled': False, u'utc_offset': -25200, u'statuses_count': 32026, u'description': u'Peace, Amazon Rainforest, Climate Change, Ocean & Human Rights Activist.   THE AMAZON RAINFOREST recycles 20% of the oxygen in our planet. Keep the AMAZON ALIVE', u'friends_count': 12773, u'location': u'Mill Valley, CA', u'profile_link_color': u'990000', u'profile_image_url': u'http://pbs.twimg.com/profile_images/730774049945608192/qalog2i1_normal.jpg', u'following': False, u'geo_enabled': True, u'profile_banner_url': u'https://pbs.twimg.com/profile_banners/29584150/1463451347', u'profile_background_image_url': u'http://pbs.twimg.com/profile_background_images/604738059897143296/dzCp250L.png', u'screen_name': u'Yolibeans', u'lang': u'en', u'profile_background_tile': True, u'favourites_count': 10358, u'name': u'Yolanda G. Lemaitre', u'notifications': False, u'url': None, u'created_at': u'Wed Apr 08 00:00:47 +0000 2009', u'contributors_enabled': False, u'time_zone': u'Pacific Time (US & Canada)', u'protected': False, u'default_profile': False, u'is_translator': False}, u'geo': None, u'in_reply_to_user_id_str': None, u'possibly_sensitive': False, u'lang': u'en', u'created_at': u'Tue May 17 15:16:10 +0000 2016', u'in_reply_to_status_id_str': None, u'place': None, u'metadata': {u'iso_language_code': u'en', u'result_type': u'recent'}}, coordinates=None, entities={u'symbols': [], u'user_mentions': [], u'hashtags': [{u'indices': [3, 8], u'text': u'Vote'}, {u'indices': [11, 26], u'text': u'HillaryClinton'}, {u'indices': [45, 51], u'text': u'POTUS'}, {u'indices': [59, 71], u'text': u'DonaldTrump'}, {u'indices': [83, 99], u'text': u'KentuckyPrimary'}, {u'indices': [101, 115], u'text': u'OregonPrimary'}], u'urls': [], u'media': [{u'expanded_url': u'http://twitter.com/Yolibeans/status/732590539434954752/photo/1', u'display_url': u'pic.twitter.com/A7q5ELNUma', u'url': u'https://t.co/A7q5ELNUma', u'media_url_https': u'https://pbs.twimg.com/media/CiqvNq0U4AEEH6B.jpg', u'id_str': u'732590538768048129', u'sizes': {u'large': {u'h': 509, u'resize': u'fit', u'w': 509}, u'small': {u'h': 340, u'resize': u'fit', u'w': 340}, u'medium': {u'h': 509, u'resize': u'fit', u'w': 509}, u'thumb': {u'h': 150, u'resize': u'crop', u'w': 150}}, u'indices': [116, 139], u'type': u'photo', u'id': 732590538768048129, u'media_url': u'http://pbs.twimg.com/media/CiqvNq0U4AEEH6B.jpg'}]}, in_reply_to_screen_name=None, id_str=u'732590539434954752', retweet_count=0, in_reply_to_user_id=None, favorited=False, source_url=u'http://twitter.com', user=User(follow_request_sent=False, has_extended_profile=True, profile_use_background_image=True, _json={u'follow_request_sent': False, u'has_extended_profile': True, u'profile_use_background_image': True, u'default_profile_image': False, u'id': 29584150, u'profile_background_image_url_https': u'https://pbs.twimg.com/profile_background_images/604738059897143296/dzCp250L.png', u'verified': False, u'profile_text_color': u'333333', u'profile_image_url_https': u'https://pbs.twimg.com/profile_images/730774049945608192/qalog2i1_normal.jpg', u'profile_sidebar_fill_color': u'F6F6F6', u'entities': {u'description': {u'urls': []}}, u'followers_count': 10974, u'profile_sidebar_border_color': u'FFFFFF', u'id_str': u'29584150', u'profile_background_color': u'EBEBEB', u'listed_count': 238, u'is_translation_enabled': False, u'utc_offset': -25200, u'statuses_count': 32026, u'description': u'Peace, Amazon Rainforest, Climate Change, Ocean & Human Rights Activist.   THE AMAZON RAINFOREST recycles 20% of the oxygen in our planet. Keep the AMAZON ALIVE', u'friends_count': 12773, u'location': u'Mill Valley, CA', u'profile_link_color': u'990000', u'profile_image_url': u'http://pbs.twimg.com/profile_images/730774049945608192/qalog2i1_normal.jpg', u'following': False, u'geo_enabled': True, u'profile_banner_url': u'https://pbs.twimg.com/profile_banners/29584150/1463451347', u'profile_background_image_url': u'http://pbs.twimg.com/profile_background_images/604738059897143296/dzCp250L.png', u'screen_name': u'Yolibeans', u'lang': u'en', u'profile_background_tile': True, u'favourites_count': 10358, u'name': u'Yolanda G. Lemaitre', u'notifications': False, u'url': None, u'created_at': u'Wed Apr 08 00:00:47 +0000 2009', u'contributors_enabled': False, u'time_zone': u'Pacific Time (US & Canada)', u'protected': False, u'default_profile': False, u'is_translator': False}, time_zone=u'Pacific Time (US & Canada)', id=29584150, _api=<tweepy.api.API object at 0x10432bb50>, verified=False, profile_text_color=u'333333', profile_image_url_https=u'https://pbs.twimg.com/profile_images/730774049945608192/qalog2i1_normal.jpg', profile_sidebar_fill_color=u'F6F6F6', is_translator=False, geo_enabled=True, entities={u'description': {u'urls': []}}, followers_count=10974, protected=False, id_str=u'29584150', default_profile_image=False, listed_count=238, lang=u'en', utc_offset=-25200, statuses_count=32026, description=u'Peace, Amazon Rainforest, Climate Change, Ocean & Human Rights Activist.   THE AMAZON RAINFOREST recycles 20% of the oxygen in our planet. Keep the AMAZON ALIVE', friends_count=12773, profile_link_color=u'990000', profile_image_url=u'http://pbs.twimg.com/profile_images/730774049945608192/qalog2i1_normal.jpg', notifications=False, profile_background_image_url_https=u'https://pbs.twimg.com/profile_background_images/604738059897143296/dzCp250L.png', profile_background_color=u'EBEBEB', profile_banner_url=u'https://pbs.twimg.com/profile_banners/29584150/1463451347', profile_background_image_url=u'http://pbs.twimg.com/profile_background_images/604738059897143296/dzCp250L.png', name=u'Yolanda G. Lemaitre', is_translation_enabled=False, profile_background_tile=True, favourites_count=10358, screen_name=u'Yolibeans', url=None, created_at=datetime.datetime(2009, 4, 8, 0, 0, 47), contributors_enabled=False, location=u'Mill Valley, CA', profile_sidebar_border_color=u'FFFFFF', default_profile=False, following=False), geo=None, in_reply_to_user_id_str=None, possibly_sensitive=False, lang=u'en', created_at=datetime.datetime(2016, 5, 17, 15, 16, 10), in_reply_to_status_id_str=None, place=None, source=u'Twitter Web Client', retweeted=False, metadata={u'iso_language_code': u'en', u'result_type': u'recent'})"
      ]
     },
     "execution_count": 5,
     "metadata": {},
     "output_type": "execute_result"
    }
   ],
   "source": [
    "the_donald_tweets[0]"
   ]
  },
  {
   "cell_type": "code",
   "execution_count": 6,
   "metadata": {
    "collapsed": false
   },
   "outputs": [
    {
     "name": "stdout",
     "output_type": "stream",
     "text": [
      "['__class__', '__delattr__', '__dict__', '__doc__', '__eq__', '__format__', '__getattribute__', '__getstate__', '__hash__', '__init__', '__module__', '__ne__', '__new__', '__reduce__', '__reduce_ex__', '__repr__', '__setattr__', '__sizeof__', '__str__', '__subclasshook__', '__weakref__', '_api', '_json', 'author', 'contributors', 'coordinates', 'created_at', 'destroy', 'entities', 'favorite', 'favorite_count', 'favorited', 'geo', 'id', 'id_str', 'in_reply_to_screen_name', 'in_reply_to_status_id', 'in_reply_to_status_id_str', 'in_reply_to_user_id', 'in_reply_to_user_id_str', 'is_quote_status', 'lang', 'metadata', 'parse', 'parse_list', 'place', 'possibly_sensitive', 'retweet', 'retweet_count', 'retweeted', 'retweets', 'source', 'source_url', 'text', 'truncated', 'user']\n"
     ]
    }
   ],
   "source": [
    "# wrappers come with built in python attributes and methods!\n",
    "print dir(the_donald_tweets[0])"
   ]
  },
  {
   "cell_type": "code",
   "execution_count": 7,
   "metadata": {
    "collapsed": false
   },
   "outputs": [
    {
     "name": "stdout",
     "output_type": "stream",
     "text": [
      "2016-05-17 15:16:10\n",
      "Ur #Vote 4 #HillaryClinton!\n",
      "Best qualified 4 #POTUS!!\n",
      "Even #DonaldTrump likes her!\n",
      "#KentuckyPrimary \n",
      "#OregonPrimary https://t.co/A7q5ELNUma\n",
      "1\n",
      "False\n",
      "en\n",
      "None\n",
      "0\n",
      "False\n",
      "None\n"
     ]
    }
   ],
   "source": [
    "print the_donald_tweets[0].created_at\n",
    "print the_donald_tweets[0].text\n",
    "print the_donald_tweets[0].favorite_count\n",
    "print the_donald_tweets[0].favorited\n",
    "print the_donald_tweets[0].lang\n",
    "print the_donald_tweets[0].geo\n",
    "print the_donald_tweets[0].retweet_count\n",
    "print the_donald_tweets[0].retweeted\n",
    "print the_donald_tweets[0].coordinates"
   ]
  },
  {
   "cell_type": "code",
   "execution_count": 8,
   "metadata": {
    "collapsed": false
   },
   "outputs": [],
   "source": [
    "def parse_status_objects(tweet_list, candidate, party):\n",
    "    modified_tweets = list()\n",
    "    for x in tweet_list:\n",
    "        modified_tweets.append( [\n",
    "                    x.created_at,\n",
    "                    x.text,\n",
    "                    x.favorite_count,\n",
    "                    x.favorited,\n",
    "                    x.lang,\n",
    "                    x.geo,\n",
    "                    x.retweet_count,\n",
    "                    x.retweeted,\n",
    "                    x.coordinates,\n",
    "                    candidate,\n",
    "                    party\n",
    "                ])\n",
    "    return modified_tweets\n",
    "        \n",
    "hillary_tweets = parse_status_objects(hillary_tweets, 'hillary', 'democratic')\n",
    "the_donald_tweets = parse_status_objects(the_donald_tweets, 'the_donald', 'republican')\n",
    "bernie_tweets = parse_status_objects(bernie_tweets, 'bernie', 'republican')"
   ]
  },
  {
   "cell_type": "code",
   "execution_count": 9,
   "metadata": {
    "collapsed": false
   },
   "outputs": [
    {
     "name": "stdout",
     "output_type": "stream",
     "text": [
      "[datetime.datetime(2016, 5, 17, 15, 19, 22), u\"OUCH!!\\nReal estate deal #brokered by #BernieSanders' #wife sinks #Vermont #college https://t.co/F1K460EAPS \\u2026\\n#KentuckyPrimary\\n#OregonPrimary\", 1, False, u'en', None, 0, False, None, 'bernie', 'republican']\n",
      "[datetime.datetime(2016, 5, 17, 15, 16, 10), u'Ur #Vote 4 #HillaryClinton!\\nBest qualified 4 #POTUS!!\\nEven #DonaldTrump likes her!\\n#KentuckyPrimary \\n#OregonPrimary https://t.co/A7q5ELNUma', 1, False, u'en', None, 0, False, None, 'the_donald', 'republican']\n",
      "[datetime.datetime(2016, 5, 17, 15, 24, 50), u'#ImWithHer (Khaleesi)', 0, False, u'fi', None, 0, False, None, 'hillary', 'democratic']\n"
     ]
    }
   ],
   "source": [
    "print bernie_tweets[0]\n",
    "print the_donald_tweets[0]\n",
    "print hillary_tweets[0]"
   ]
  },
  {
   "cell_type": "code",
   "execution_count": 10,
   "metadata": {
    "collapsed": true
   },
   "outputs": [],
   "source": [
    "# 2 Create a dataframe that combines all of the tweets from each candidate\n",
    "# To do so, you will need to concat the data frames\n",
    "# so each row is a tweet and your columns should be \n",
    "# date, text, favorite_count,favorited, language, geocode, rwtweet count, retweeted, coordinates\n",
    "import pandas as pd"
   ]
  },
  {
   "cell_type": "code",
   "execution_count": 83,
   "metadata": {
    "collapsed": false
   },
   "outputs": [],
   "source": [
    "col_names = ['date','text','favorite_count','favorited','language','geocode','rtweet_count','retweeted','coordinates','candidate','party']\n",
    "df = pd.DataFrame(bernie_tweets)\n",
    "df = df.append(the_donald_tweets, ignore_index = True)\n",
    "df = df.append(hillary_tweets, ignore_index = True)\n",
    "df.columns = col_names"
   ]
  },
  {
   "cell_type": "code",
   "execution_count": 84,
   "metadata": {
    "collapsed": false
   },
   "outputs": [
    {
     "data": {
      "text/plain": [
       "0"
      ]
     },
     "execution_count": 84,
     "metadata": {},
     "output_type": "execute_result"
    }
   ],
   "source": [
    "df.text.isnull().sum()"
   ]
  },
  {
   "cell_type": "code",
   "execution_count": 85,
   "metadata": {
    "collapsed": true
   },
   "outputs": [],
   "source": [
    "# 3 Create a function to take in a string and output the textblob sentiment of that string\n",
    "from textblob import TextBlob, Word"
   ]
  },
  {
   "cell_type": "code",
   "execution_count": 86,
   "metadata": {
    "collapsed": true
   },
   "outputs": [],
   "source": [
    "def detect_sentiment(text):\n",
    "    try:\n",
    "        return TextBlob(text.decode('ascii','ignore')).sentiment.polarity\n",
    "    except UnicodeEncodeError:\n",
    "        try:\n",
    "            return TextBlob(text.decode('utf-8-','ignore')).sentiment.polarity\n",
    "        except UnicodeEncodeError:\n",
    "            try:\n",
    "                return TextBlob(text.decode('latin_1','ignore')).sentiment.polarity\n",
    "            except UnicodeEncodeError:\n",
    "                pass\n",
    "        "
   ]
  },
  {
   "cell_type": "code",
   "execution_count": 87,
   "metadata": {
    "collapsed": false
   },
   "outputs": [],
   "source": [
    "# 4 Add a column to your data frame called 'sentiment' which holds the sentiment of that tweet (hint: use the function from #3)\n",
    "df['sentiment'] = df.text.apply(detect_sentiment)\n"
   ]
  },
  {
   "cell_type": "code",
   "execution_count": 88,
   "metadata": {
    "collapsed": true
   },
   "outputs": [],
   "source": [
    "# 5 create a word count column, which holds the number of words in the text column\n",
    "def count_words(text):\n",
    "    try:\n",
    "        return len(TextBlob(text.decode('ascii','ignore')).words)\n",
    "    except UnicodeEncodeError:\n",
    "        try:\n",
    "            return len(TextBlob(text.decode('utf-8','ignore')).words)\n",
    "        except UnicodeEncodeError:\n",
    "            try:\n",
    "                return len(TextBlob(text.decode('latin_1','ignore')).words)\n",
    "            except UnicodeEncodeError:\n",
    "                pass"
   ]
  },
  {
   "cell_type": "code",
   "execution_count": 89,
   "metadata": {
    "collapsed": false
   },
   "outputs": [],
   "source": [
    "df['word_count'] = df.text.apply(count_words)"
   ]
  },
  {
   "cell_type": "code",
   "execution_count": 90,
   "metadata": {
    "collapsed": false
   },
   "outputs": [],
   "source": [
    "df.dropna(subset = ['sentiment'], inplace = True)\n",
    "df.reset_index(inplace = True)"
   ]
  },
  {
   "cell_type": "code",
   "execution_count": 91,
   "metadata": {
    "collapsed": true
   },
   "outputs": [],
   "source": [
    "# use countvectorizer to create a document-term matrix and concatenate it to your main dataframe\n",
    "#(hint you should now have thousands of columns)\n",
    "from sklearn.feature_extraction.text import CountVectorizer"
   ]
  },
  {
   "cell_type": "code",
   "execution_count": 92,
   "metadata": {
    "collapsed": false
   },
   "outputs": [],
   "source": [
    "vect = CountVectorizer()\n",
    "doct_term = vect.fit_transform(df.text)\n",
    "doct_term_df = pd.DataFrame(doct_term.toarray(), columns=vect.get_feature_names())\n",
    "df = pd.merge(df, doct_term_df, left_index = True, right_index = True, suffixes = ('','_x'))"
   ]
  },
  {
   "cell_type": "code",
   "execution_count": 93,
   "metadata": {
    "collapsed": false
   },
   "outputs": [],
   "source": [
    "# 6 Use kmean to create clusters for the dataframe\n",
    "from sklearn.cluster import KMeans\n",
    "km = KMeans(n_clusters=3, random_state=1)\n",
    "feature_set = df.drop(['date','text','geocode','coordinates','candidate','party','language',\n",
    "                      'berniesanders','bernie','feelthebern','imwithher','hillaryclinton',\n",
    "                      'hillary2016','donaldtrump','trump2016','trump'], axis = 1)\n"
   ]
  },
  {
   "cell_type": "code",
   "execution_count": 94,
   "metadata": {
    "collapsed": false
   },
   "outputs": [],
   "source": [
    "km.fit(feature_set)\n",
    "df['cluster'] = km.labels_"
   ]
  },
  {
   "cell_type": "code",
   "execution_count": 95,
   "metadata": {
    "collapsed": false
   },
   "outputs": [],
   "source": [
    "# 7 Explore the clusters\n",
    "# What is interesting? Surprising? Can you draw any inferences about each cluster?\n",
    "# Write your answer to these questions in markdown\n"
   ]
  },
  {
   "cell_type": "code",
   "execution_count": 96,
   "metadata": {
    "collapsed": false
   },
   "outputs": [
    {
     "data": {
      "text/plain": [
       "candidate   cluster\n",
       "bernie      0          138\n",
       "            1            7\n",
       "hillary     2          132\n",
       "the_donald  1          188\n",
       "            2           20\n",
       "dtype: int64"
      ]
     },
     "execution_count": 96,
     "metadata": {},
     "output_type": "execute_result"
    }
   ],
   "source": [
    "df.groupby('candidate')['cluster'].value_counts()"
   ]
  },
  {
   "cell_type": "markdown",
   "metadata": {},
   "source": [
    "\n",
    "- All three canidates' tweets were divided into separate clusters for the most part:\n",
    "    - Bernie = 0, Donald = 1, Hillary = 2\n",
    "- Hillary tweets are all in the same cluster\n",
    "- Some Donald tweets clustered with Hillary tweets, a few Bernie tweets clustered with Donald tweets"
   ]
  },
  {
   "cell_type": "code",
   "execution_count": 97,
   "metadata": {
    "collapsed": true
   },
   "outputs": [],
   "source": [
    "# 8 Create a column called 'democrat' and assign it to the corresponding candidate name for all the records\n",
    "# 1 for bernie and hilary and 0 for donald trump"
   ]
  },
  {
   "cell_type": "code",
   "execution_count": 98,
   "metadata": {
    "collapsed": true
   },
   "outputs": [],
   "source": [
    "# 9 Estimate classification models using knn and logistic regession.  Dont forget to use cross validation \n",
    "# (do not use cross_val_score because we will want a confusion matrix).\n",
    "# Use a three class response variable for knn.  For logistic regression predict democrat or republican?\n",
    "#Assess the pros and cons of both approaches\n",
    "#Extra Credit: Estimate multinomial regression model using the three class response variable\n",
    "from sklearn.cross_validation import train_test_split\n",
    "from sklearn.neighbors import KNeighborsClassifier \n",
    "from sklearn.linear_model import LogisticRegression\n",
    "from sklearn import metrics"
   ]
  },
  {
   "cell_type": "code",
   "execution_count": 99,
   "metadata": {
    "collapsed": false
   },
   "outputs": [],
   "source": [
    "# 10 Initialize a classification model (for both knn and logistic)\n",
    "knn = KNeighborsClassifier(n_neighbors=3)\n",
    "logreg = LogisticRegression()"
   ]
  },
  {
   "cell_type": "code",
   "execution_count": 100,
   "metadata": {
    "collapsed": false
   },
   "outputs": [
    {
     "data": {
      "text/plain": [
       "LogisticRegression(C=1.0, class_weight=None, dual=False, fit_intercept=True,\n",
       "          intercept_scaling=1, max_iter=100, multi_class='ovr', n_jobs=1,\n",
       "          penalty='l2', random_state=None, solver='liblinear', tol=0.0001,\n",
       "          verbose=0, warm_start=False)"
      ]
     },
     "execution_count": 100,
     "metadata": {},
     "output_type": "execute_result"
    }
   ],
   "source": [
    "# 11 Train your classification model  (for both knn and logistic)\n",
    "knn_y = df['candidate'].map({'bernie':0,'the_donald':1,'hillary':2})\n",
    "log_y = df['party'].map({'democratic':0,'republican':1})\n",
    "\n",
    "knn_features_train, knn_features_test, knn_response_train, knn_response_test \\\n",
    "= train_test_split(feature_set, knn_y, random_state=1)\n",
    "log_features_train, log_features_test, log_response_train, log_response_test \\\n",
    "= train_test_split(feature_set, log_y, random_state=1)\n",
    "\n",
    "knn.fit(knn_features_train, knn_response_train)\n",
    "logreg.fit(log_features_train, log_response_train)"
   ]
  },
  {
   "cell_type": "code",
   "execution_count": 107,
   "metadata": {
    "collapsed": false
   },
   "outputs": [
    {
     "data": {
      "text/plain": [
       "the_donald    208\n",
       "bernie        145\n",
       "hillary       132\n",
       "Name: candidate, dtype: int64"
      ]
     },
     "execution_count": 107,
     "metadata": {},
     "output_type": "execute_result"
    }
   ],
   "source": [
    "df.candidate.value_counts()"
   ]
  },
  {
   "cell_type": "code",
   "execution_count": 102,
   "metadata": {
    "collapsed": false
   },
   "outputs": [],
   "source": [
    "# 12 Predict on your test features and targets (for both knn and logistic)\n",
    "knn_preds = knn.predict(knn_features_test)\n",
    "log_preds = logreg.predict(log_features_test)"
   ]
  },
  {
   "cell_type": "code",
   "execution_count": 103,
   "metadata": {
    "collapsed": false
   },
   "outputs": [
    {
     "name": "stdout",
     "output_type": "stream",
     "text": [
      "knn accuracy: 0.991803278689\n",
      "logreg accuracy: 0.975409836066\n"
     ]
    }
   ],
   "source": [
    "# 13 output your accuracy (for both knn and logistic)\n",
    "print 'knn accuracy:', knn.score(knn_features_test, knn_response_test)\n",
    "print 'logreg accuracy:', metrics.accuracy_score(log_response_test, log_preds)"
   ]
  },
  {
   "cell_type": "code",
   "execution_count": 104,
   "metadata": {
    "collapsed": false
   },
   "outputs": [
    {
     "name": "stdout",
     "output_type": "stream",
     "text": [
      "Logistic Regressions:\n",
      "Sensitivity: 0.988235294118\n",
      "Specificity: 0.945945945946\n",
      "             Pred. Dem.  Pred. Rep.\n",
      "Actual Dem.          35           2\n",
      "Actual Rep.           1          84\n"
     ]
    }
   ],
   "source": [
    "# 14 Create a confusion matrix for your predictions (for both knn and logistic)\n",
    "conf_mat = metrics.confusion_matrix(log_response_test, log_preds)\n",
    "print 'Logistic Regressions:'\n",
    "print 'Sensitivity:', conf_mat[1,1]/float(sum(conf_mat[1,]))\n",
    "print 'Specificity:', conf_mat[0,0]/float(sum(conf_mat[0,]))\n",
    "print pd.DataFrame(conf_mat, columns = ['Pred. Dem.', 'Pred. Rep.'], index = ['Actual Dem.', 'Actual Rep.'])"
   ]
  },
  {
   "cell_type": "code",
   "execution_count": 105,
   "metadata": {
    "collapsed": false
   },
   "outputs": [
    {
     "name": "stdout",
     "output_type": "stream",
     "text": [
      "KNN:\n",
      "                Pred. Bernie  Pred. Donald  Pred. Hillary\n",
      "Actual Bernie             29             1              0\n",
      "Actual Donald              0            55              0\n",
      "Actual Hillary             0             0             37\n"
     ]
    }
   ],
   "source": [
    "conf_mat = metrics.confusion_matrix(knn_response_test, knn_preds)\n",
    "print 'KNN:'\n",
    "print pd.DataFrame(conf_mat, columns = ['Pred. Bernie','Pred. Donald', 'Pred. Hillary'], index = ['Actual Bernie','Actual Donald', 'Actual Hillary'])"
   ]
  },
  {
   "cell_type": "code",
   "execution_count": null,
   "metadata": {
    "collapsed": true
   },
   "outputs": [],
   "source": []
  },
  {
   "cell_type": "code",
   "execution_count": null,
   "metadata": {
    "collapsed": true
   },
   "outputs": [],
   "source": [
    "# 15 Who is the easiest candidate to predict? Why do you think? Who is the hardest? Why do you think?\n",
    "# Write your answers in markdown (for both knn and logistic)"
   ]
  },
  {
   "cell_type": "markdown",
   "metadata": {},
   "source": [
    "- Both Donald and Hillary were predicted perfectly by KNN, one Bernie tweet was attributed to Donald"
   ]
  },
  {
   "cell_type": "code",
   "execution_count": null,
   "metadata": {
    "collapsed": true
   },
   "outputs": [],
   "source": [
    "# 16 What are some extra features (data points) you would like to add to this data set. Explain in markdown.\n",
    "# (hint maybe something like a boolean, \"has_hashtag\")"
   ]
  },
  {
   "cell_type": "markdown",
   "metadata": {},
   "source": [
    "- This was way more predective than I expected, I'd actually be interested in removing columns to see which columns are really driving the predictive power\n",
    "- I dropped the hashtags that we grabbed the tweets based on, but I wonder if there are other hashtags commonly included in the tweets that are making them easily identifiable\n",
    "- I would also be interested to dig into the encoding/formatting of the tweets that I was not able to parse, since I had to remove a significant chunk of my dataset at that stage"
   ]
  },
  {
   "cell_type": "code",
   "execution_count": null,
   "metadata": {
    "collapsed": true
   },
   "outputs": [],
   "source": [
    "# 17 Try adding extra features to improve the quality of your predictions (for both knn and logistic)"
   ]
  }
 ],
 "metadata": {
  "kernelspec": {
   "display_name": "Python 2",
   "language": "python",
   "name": "python2"
  },
  "language_info": {
   "codemirror_mode": {
    "name": "ipython",
    "version": 2
   },
   "file_extension": ".py",
   "mimetype": "text/x-python",
   "name": "python",
   "nbconvert_exporter": "python",
   "pygments_lexer": "ipython2",
   "version": "2.7.11"
  }
 },
 "nbformat": 4,
 "nbformat_minor": 0
}
